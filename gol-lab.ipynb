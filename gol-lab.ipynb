{
 "cells": [
  {
   "cell_type": "markdown",
   "metadata": {},
   "source": [
    "# Lab - Game of Life on GPU - With Jupyter & Cling CUDA C++\n",
    "\n",
    "The Game of Life is a system designed by the mathematician John Conway, based on a two-dimensional cellular automaton. The game area is divided into rows and columns. We assume a **square game area** in this lab. Each cell can occupy one of two states, which are called alive and dead. The next generation of a configuration evolves from simple rules.\n",
    "\n",
    "* A dead cell with exactly three living neighbors is reborn in the next generation.\n",
    "* A living cell with two or three living neighbours remains alive in the next generation.\n",
    "* Living cells with a different number of living neighbours die in the next generation.\n",
    "\n",
    "It is possible to define other rules. Conway's world is a 23/3 world. (One cell stays alive with 2 or 3 living neighbours. A cell is reborn with exactly 3 living neighbours.)\n",
    "\n",
    "Further meaningful rules of the game and starting worlds can be read under [Wikipedia - Conway's Game of Life](https://en.wikipedia.org/wiki/Conway%27s_Game_of_Life)."
   ]
  },
  {
   "cell_type": "markdown",
   "metadata": {},
   "source": [
    "## Initialization"
   ]
  },
  {
   "cell_type": "markdown",
   "metadata": {},
   "source": [
    "This adds required includes and libraries. Press __Shift + Enter__ to execute."
   ]
  },
  {
   "cell_type": "code",
   "execution_count": null,
   "metadata": {},
   "outputs": [],
   "source": [
    "#pragma cling(add_include_path \"/usr/local/cuda/include\")\n",
    "#pragma cling(add_library_path \"/usr/local/lib\")\n",
    "\n",
    "#include <iostream>\n",
    "\n",
    "#pragma cling(load \"cuda.so\")\n",
    "#pragma cling(load \"libcudart.so\")\n",
    "#pragma cling(load \"libnvrtc.so\")\n",
    "#pragma cling(load \"libPNGwriter.so\")\n",
    "\n",
    "#include \"task.hpp\""
   ]
  },
  {
   "cell_type": "markdown",
   "metadata": {},
   "source": [
    "Define the dimension and number of iterations. If these numbers are changed again, a _Kernel -> Restart ..._ is required"
   ]
  },
  {
   "cell_type": "code",
   "execution_count": null,
   "metadata": {},
   "outputs": [],
   "source": [
    "int dim = 10;\n",
    "int iteration = 10;\n",
    "\n",
    "Task1 t1(dim);\n",
    "Task2 t2(dim);\n",
    "Task3 t3(dim);"
   ]
  },
  {
   "cell_type": "markdown",
   "metadata": {},
   "source": [
    "## 1. Task\n",
    "<p>Implement the kernel that copies the shadow rows and columns.</p>\n",
    "<img src=\"graphics/ghostcells.svg\" width=\"50%\"/>\n",
    "<p>To do this, fill in the code skeleton in the following cell and then execute the following cell to check its implementation.</p>"
   ]
  },
  {
   "cell_type": "code",
   "execution_count": null,
   "metadata": {},
   "outputs": [],
   "source": [
    "%%file copy_ghostcells.cu\n",
    "\n",
    "__global__ void copy_ghostrows(int dim, int *world)\n",
    "{\n",
    "    int id = 0 /* TODO */;\n",
    "\n",
    "    if (0 /* TODO */)\n",
    "    {\n",
    "        //Copy first real row to bottom ghost row\n",
    "        world[0 /* TODO */] = world[0 /* TODO */];\n",
    "        //Copy last real row to top ghost row\n",
    "        world[0 /* TODO */] = world[0 /* TODO */];\n",
    "    }\n",
    "}\n",
    "\n",
    "__global__ void copy_ghostcols(int dim, int *world)\n",
    "{\n",
    "    int id = 0 /* TODO */;\n",
    "\n",
    "    if (0 /* TODO */)\n",
    "    {\n",
    "        //Copy first real column to right most ghost column\n",
    "        world[0 /* TODO */] = world[0 /* TODO */];\n",
    "        //Copy last real column to left most ghost column\n",
    "        world[0 /* TODO */] = world[0 /* TODO */];\n",
    "    }\n",
    "}"
   ]
  },
  {
   "cell_type": "markdown",
   "metadata": {},
   "source": [
    "Define the grid and block sizes."
   ]
  },
  {
   "cell_type": "code",
   "execution_count": null,
   "metadata": {},
   "outputs": [],
   "source": [
    "// using 1D grid for copy kernel\n",
    "dim3 threads_1d(128);\n",
    "dim3 blocks_1d((dim+2-1)/threads_1d.x+1);\n",
    "// using 2D grid for update kernel\n",
    "dim3 threads_2d(32, 4, 1);\n",
    "dim3 blocks_2d((dim-1)/threads_2d.x+1, \n",
    "               (dim-1)/threads_2d.y+1, \n",
    "               1);"
   ]
  },
  {
   "cell_type": "markdown",
   "metadata": {},
   "source": [
    "Set up the kernels and execute them. Mismatches will be shown in the output."
   ]
  },
  {
   "cell_type": "code",
   "execution_count": null,
   "metadata": {},
   "outputs": [],
   "source": [
    "t1.init_zero(); // set all values of the initial world to 0\n",
    "t1.load_world(\"worlds/ghost_test.txt\");\n",
    "t1.init(); // delete all generated pictures and copy the source world to the GPU\n",
    "// compile kernel file from above\n",
    "t1.compile_kernel(\"copy_ghostcells.cu\", \"copy_ghostrows\");\n",
    "t1.compile_kernel(\"copy_ghostcells.cu\", \"copy_ghostcols\");\n",
    "// run kernels\n",
    "t1.run_kernel(\"copy_ghostrows\", blocks_1d, threads_1d);\n",
    "t1.run_kernel(\"copy_ghostcols\", blocks_1d, threads_1d);\n",
    "t1.gen_diff(); // compare solution and result and generate a diff picture\n",
    "t1.print_worlds(true); // print worlds to screen (clear output before)"
   ]
  },
  {
   "cell_type": "markdown",
   "metadata": {},
   "source": [
    "1. Figure: expected solution\n",
    "2. Figure: kernel solution\n",
    "3. Figure: diff between expected and kernel solution (see legend)\n",
    "\n",
    "<p> Legend: </p>\n",
    "<p> <font> &#9608; </font> dead cell </p>\n",
    "<p> <font color=\"ffffff\">&#9608; </font> living cell </p>\n",
    "<p> <font color=\"ff0000\">&#9608; </font> should be a dead cell </p>\n",
    "<p> <font color=\"00ff00\">&#9608; </font> should be a living cell </p>"
   ]
  },
  {
   "cell_type": "markdown",
   "metadata": {},
   "source": [
    "## 2. Task\n",
    "Implement the actual Game-of-Life kernel. __Attention__, for the correct execution of the test cells it is necessary that task 1 has been solved correctly.\n",
    "\n",
    "To verify your implementation, load sample worlds from the folder `worlds/` with the `load_world()` function."
   ]
  },
  {
   "cell_type": "code",
   "execution_count": null,
   "metadata": {},
   "outputs": [],
   "source": [
    "t2.compile_kernel(\"copy_ghostcells.cu\", \"copy_ghostrows\");\n",
    "t2.compile_kernel(\"copy_ghostcells.cu\", \"copy_ghostcols\");\n",
    "t2.init_zero();\n",
    "t2.load_world(\"worlds/glider.txt\"); // loading the world"
   ]
  },
  {
   "cell_type": "markdown",
   "metadata": {},
   "source": [
    "`block.txt`, `beacon.txt` and `glider.txt` provide worlds for testing. The following table shows the expected result over several iterations:\n",
    "\n",
    "| block.txt | beacon.txt | glider.txt |\n",
    "|:--------- |:---------- |:---------- |\n",
    "| <img src=\"graphics/game_of_life_block_with_border.svg\"> | <img src=\"graphics/game_of_life_beacon.gif\"> | <img src=\"graphics/game_of_life_animated_glider.gif\">\n",
    "\n",
    "As already in task 1, the code skeleton must be filled in first and then the following cell must be executed for verification.\n",
    "\n",
    "There are two world buffers, one for reading the current state and one for writing (**could we also use a single buffer doing the update in-place?**)."
   ]
  },
  {
   "cell_type": "code",
   "execution_count": null,
   "metadata": {},
   "outputs": [],
   "source": [
    "%%file GOL_GPU.cu\n",
    "\n",
    "__global__ void GOL_GPU(int dim, int *world, int *newWorld) {\n",
    "    int row = 0 /* TODO */;\n",
    "    int col = 0 /* TODO */;\n",
    "    int id  = 0 /* TODO */;\n",
    "\n",
    "    int cell = world[id];\n",
    "\n",
    "    int numNeighbors = world[0 /* TODO */]   // lower\n",
    "      + world[0 /* TODO */]   // upper\n",
    "      + world[0 /* TODO */]   // right\n",
    "      + world[0 /* TODO */]   // left\n",
    "\n",
    "      + world[0 /* TODO */]   // diagonal lower right\n",
    "      + world[0 /* TODO */]   // diagonal upper left\n",
    "      + world[0 /* TODO */]   // diagonal upper right\n",
    "      + world[0 /* TODO */];  // diagonal lower left\n",
    "\n",
    "    if (0 /* TODO */)\n",
    "        newWorld[id] = 0;\n",
    "\n",
    "    // 2) Any live cell with two or three live neighbours lives\n",
    "    else if (0 /* TODO */)\n",
    "        newWorld[id] = 1;\n",
    "\n",
    "    // 3) Any live cell with more than three live neighbours dies\n",
    "    else if (0 /* TODO */)\n",
    "        newWorld[id] = 0;\n",
    "\n",
    "    // 4) Any dead cell with exactly three live neighbours becomes a live cell\n",
    "    else if (0 /* TODO */)\n",
    "        newWorld[id] = 1;\n",
    "\n",
    "    else\n",
    "        newWorld[id] = cell;\n",
    "}"
   ]
  },
  {
   "cell_type": "code",
   "execution_count": null,
   "metadata": {},
   "outputs": [],
   "source": [
    "t2.init();\n",
    "t2.compile_kernel(\"GOL_GPU.cu\", \"GOL_GPU\");\n",
    "for(int i = 0; i < iteration; ++i){\n",
    "    // invokes the three kernels in the following order\n",
    "    t2.run_kernel(\"copy_ghostrows\",       // kernel-1 name\n",
    "                  blocks_1d, threads_1d,  // launch config for kernel-1\n",
    "                  \"copy_ghostcols\",       // kernel-2\n",
    "                  blocks_1d, threads_1d,  // launch config-2\n",
    "                  \"GOL_GPU\",              // kernel-3\n",
    "                  blocks_2d, threads_2d); // launch config-3\n",
    "}\n",
    "t2.print_worlds(true);"
   ]
  },
  {
   "cell_type": "markdown",
   "metadata": {},
   "source": [
    "**Note:** To speed up or slow down the animation, execute the following cell. The value indicates the pause time between two frames in milliseconds. Default is 800ms."
   ]
  },
  {
   "cell_type": "code",
   "execution_count": null,
   "metadata": {},
   "outputs": [],
   "source": [
    "t2.set_sleep_time(500)"
   ]
  },
  {
   "cell_type": "markdown",
   "metadata": {},
   "source": [
    "**Note:** Task 3 actually wants a shared memory implementation, but you can refactor the kernel from above with a grid-stride loop version or with other rules, or worlds, and compare the output, or the runtimes in the subsequent benchmark. The dimension must be increased though, and no one tested this before. Feel free to play around :) In task.hpp you can edit the C++ code for these task objects if needed."
   ]
  },
  {
   "cell_type": "markdown",
   "metadata": {},
   "source": [
    "## 3. Task\n",
    "\n",
    "Extend the game of life with shared memory to improve performance. First test your implementation as in task 2, then run the benchmark cells to measure and compare the times of Global Memory and Shared Memory implementation. "
   ]
  },
  {
   "cell_type": "code",
   "execution_count": null,
   "metadata": {},
   "outputs": [],
   "source": [
    "t3.compile_kernel(\"copy_ghostcells.cu\", \"copy_ghostrows\");\n",
    "t3.compile_kernel(\"copy_ghostcells.cu\", \"copy_ghostcols\");\n",
    "t3.init_zero();\n",
    "t3.load_world(\"worlds/glider.txt\");"
   ]
  },
  {
   "cell_type": "code",
   "execution_count": null,
   "metadata": {},
   "outputs": [],
   "source": [
    "%%file GOL_SM_GPU.cu\n",
    "\n",
    "// SM_size is (dim+2)*(dim+2)\n",
    "template<int SM_size>\n",
    "__global__ void GOL_SM_GPU(int dim, int *world, int *newWorld) {\n",
    "   \n",
    "    __shared__ int s_world[SM_size];\n",
    "\n",
    "    int row = 0 /* TODO */;\n",
    "    int col = 0 /* TODO */;\n",
    "    int id  = 0 /* TODO */;\n",
    "   \n",
    "    s_world[id] = world[id];\n",
    "    __syncthreads();\n",
    "\n",
    "    if( 0 /* TODO */ ){\n",
    "       \n",
    "        int numNeighbors;\n",
    "        int cell = world[id];\n",
    "\n",
    "// same as in task 2\n",
    "\n",
    "        numNeighbors =   s_world[0 /* TODO */]   // lower\n",
    "          + s_world[0 /* TODO */]   // upper\n",
    "          + s_world[0 /* TODO */]   // right\n",
    "          + s_world[0 /* TODO */]   // left\n",
    "\n",
    "          + s_world[0 /* TODO */]   // diagonal lower right\n",
    "          + s_world[0 /* TODO */]   // diagonal upper left\n",
    "          + s_world[0 /* TODO */]   // diagonal upper right\n",
    "          + s_world[0 /* TODO */];  // diagonal lower left\n",
    "\n",
    "        if (0 /* TODO */)\n",
    "            newWorld[id] = 0;\n",
    "\n",
    "        // 2) Any live cell with two or three live neighbours lives\n",
    "        else if (0 /* TODO */)\n",
    "            newWorld[id] = 1;\n",
    "\n",
    "        // 3) Any live cell with more than three live neighbours dies\n",
    "        else if (0 /* TODO */)\n",
    "            newWorld[id] = 0;\n",
    "\n",
    "        // 4) Any dead cell with exactly three live neighbours becomes a live cell\n",
    "        else if (0 /* TODO */)\n",
    "            newWorld[id] = 1;\n",
    "\n",
    "        else\n",
    "            newWorld[id] = cell;\n",
    "    }\n",
    "}"
   ]
  },
  {
   "cell_type": "code",
   "execution_count": null,
   "metadata": {},
   "outputs": [],
   "source": [
    "t3.init();\n",
    "t3.compile_kernel(\"GOL_SM_GPU.cu\", \"GOL_SM_GPU\", (dim + 2) * (dim + 2));\n",
    "for(int i = 0; i < iteration; ++i)\n",
    "    t3.run_kernel(\"copy_ghostrows\",       // kernel-1 name\n",
    "                  blocks_1d, threads_1d,  // launch config for kernel-1\n",
    "                  \"copy_ghostcols\",       // kernel-2\n",
    "                  blocks_1d, threads_1d,  // launch config-2\n",
    "                  \"GOL_SM_GPU\",           // kernel-3\n",
    "                  blocks_2d, threads_2d); // launch config-3\n",
    "t3.print_worlds(true);"
   ]
  },
  {
   "cell_type": "markdown",
   "metadata": {},
   "source": [
    "### Benchmark"
   ]
  },
  {
   "cell_type": "code",
   "execution_count": null,
   "metadata": {},
   "outputs": [],
   "source": [
    "// prepare two additional tasks for the benchmark\n",
    "\n",
    "int bench_dim = 30;\n",
    "\n",
    "// using 1D grid for copy kernel\n",
    "dim3 threads_bench_1d(128);\n",
    "dim3 blocks_bench_1d((bench_dim+2-1)/threads_bench_1d.x+1);\n",
    "// using 2D grid for update kernel\n",
    "dim3 threads_bench_2d(32,4,1);\n",
    "dim3 blocks_bench_2d((bench_dim-1)/threads_bench_2d.x+1, (bench_dim-1)/threads_bench_2d.y+1, 1);\n",
    "\n",
    "Task2 gm_kernel(bench_dim);\n",
    "Task3 sm_kernel(bench_dim);\n",
    "\n",
    "gm_kernel.compile_kernel(\"copy_ghostcells.cu\", \"copy_ghostrows\");\n",
    "gm_kernel.compile_kernel(\"copy_ghostcells.cu\", \"copy_ghostcols\");\n",
    "gm_kernel.init_zero();\n",
    "gm_kernel.load_world(\"worlds/bench.txt\");\n",
    "gm_kernel.init();\n",
    "gm_kernel.compile_kernel(\"GOL_GPU.cu\", \"GOL_GPU\");\n",
    "\n",
    "sm_kernel.compile_kernel(\"copy_ghostcells.cu\", \"copy_ghostrows\");\n",
    "sm_kernel.compile_kernel(\"copy_ghostcells.cu\", \"copy_ghostcols\");\n",
    "sm_kernel.init_zero();\n",
    "sm_kernel.load_world(\"worlds/bench.txt\");\n",
    "sm_kernel.init();\n",
    "// (file_path, kernel_name, total_shared_memory_size)\n",
    "sm_kernel.compile_kernel(\"GOL_SM_GPU.cu\", \"GOL_SM_GPU\", (bench_dim + 2) * (bench_dim + 2));"
   ]
  },
  {
   "cell_type": "code",
   "execution_count": null,
   "metadata": {},
   "outputs": [],
   "source": [
    "int bench_iterations = 20000;\n",
    "\n",
    "std::cout << \"Total time of \" << bench_iterations << \" iterations\" << std::endl;\n",
    "std::cout << \"Global Memory kernel: \" << gm_kernel.bench_kernel(bench_iterations, // number_of_iterations,\n",
    "                                                                \"copy_ghostrows\",\n",
    "                                                                blocks_bench_1d, threads_bench_1d, // copy_ghostrows\n",
    "                                                                \"copy_ghostcols\",\n",
    "                                                                blocks_bench_1d, threads_bench_1d, // copy_ghostcols\n",
    "                                                                \"GOL_GPU\",\n",
    "                                                                blocks_bench_2d, threads_bench_2d) // GOL_GPU\n",
    "          << \"ms\" << std::endl;\n",
    "std::cout << \"Shared Memory kernel: \" << sm_kernel.bench_kernel(bench_iterations, \n",
    "                                                                \"copy_ghostrows\",\n",
    "                                                                blocks_bench_1d, threads_bench_1d, // copy_ghostrows\n",
    "                                                                \"copy_ghostcols\",\n",
    "                                                                blocks_bench_1d, threads_bench_1d, // copy_ghostcols\n",
    "                                                                \"GOL_SM_GPU\",\n",
    "                                                                blocks_bench_2d, threads_bench_2d) // GOL_SM_GPU \n",
    "          << \"ms\" << std::endl;"
   ]
  },
  {
   "cell_type": "markdown",
   "metadata": {},
   "source": [
    "## Bonus\n",
    "\n",
    "With the following cell you can create your own world. `0` represents a dead cell and `X` is a living cell. You can also enlarge the world by the dim value in the first part of this notebook (the world must be square, kernel must be restarted, subsequent calls must be rerun).\n",
    "\n",
    "To use that world below (execute first), change the path of the `load_world()` function in task 2 or 3 to `custom.txt`."
   ]
  },
  {
   "cell_type": "code",
   "execution_count": null,
   "metadata": {},
   "outputs": [],
   "source": [
    "%%file custom.txt\n",
    "0 0 0 0 0 0 0 0 0 0\n",
    "0 0 X 0 0 0 X X 0 0\n",
    "0 0 0 X 0 0 X X 0 0\n",
    "0 X X X 0 0 0 0 0 0\n",
    "0 0 0 0 0 0 0 0 0 0\n",
    "0 0 0 X X 0 0 0 0 0\n",
    "0 0 0 X X 0 0 0 0 0\n",
    "0 0 0 0 0 X X 0 0 0\n",
    "0 0 0 0 0 X X 0 0 0\n",
    "0 0 0 0 0 0 0 0 0 0"
   ]
  },
  {
   "cell_type": "code",
   "execution_count": null,
   "metadata": {},
   "outputs": [],
   "source": []
  }
 ],
 "metadata": {
  "kernelspec": {
   "display_name": "C++14",
   "language": "C++14",
   "name": "xcpp14"
  },
  "language_info": {
   "codemirror_mode": "text/x-c++src",
   "file_extension": ".cpp",
   "mimetype": "text/x-c++src",
   "name": "c++",
   "version": "-std=c++14"
  }
 },
 "nbformat": 4,
 "nbformat_minor": 4
}
